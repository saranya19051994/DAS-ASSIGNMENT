{
  "nbformat": 4,
  "nbformat_minor": 0,
  "metadata": {
    "colab": {
      "provenance": []
    },
    "kernelspec": {
      "name": "python3",
      "display_name": "Python 3"
    },
    "language_info": {
      "name": "python"
    }
  },
  "cells": [
    {
      "cell_type": "markdown",
      "source": [
        "1 ) Write a Python program which accepts the radius of a circle from the user and compute the area.\n"
      ],
      "metadata": {
        "id": "PaYETNUNX2-V"
      }
    },
    {
      "cell_type": "code",
      "source": [
        "\n",
        "import math\n",
        "math .pi\n",
        "\n",
        "\n",
        "radius = float(input(\"Enter the radius: \"))\n",
        "area = 3.14 * radius ** 2\n",
        "print(\"The area of the circle is:\", area)\n"
      ],
      "metadata": {
        "colab": {
          "base_uri": "https://localhost:8080/"
        },
        "id": "DFBiE-DC9a4H",
        "outputId": "a759e1e4-f762-4e9e-eb1a-31f233b3e877"
      },
      "execution_count": 6,
      "outputs": [
        {
          "output_type": "stream",
          "name": "stdout",
          "text": [
            "Enter the radius: 58\n",
            "The area of the circle is: 10562.960000000001\n"
          ]
        }
      ]
    },
    {
      "cell_type": "markdown",
      "source": [
        "2) Write a Python Program to accept the details of a student like name, roll\n",
        "number and mark and display it."
      ],
      "metadata": {
        "id": "8coCL7Ejn0DE"
      }
    },
    {
      "cell_type": "code",
      "execution_count": 5,
      "metadata": {
        "colab": {
          "base_uri": "https://localhost:8080/"
        },
        "id": "F_tSGAaz8sk9",
        "outputId": "1b86fdef-4cb3-4461-f5b9-30ef48047e36"
      },
      "outputs": [
        {
          "output_type": "stream",
          "name": "stdout",
          "text": [
            "Enter Name: saranya\n",
            "Enter Roll No: 12\n",
            "Enter Mark: 56\n",
            "Name: saranya\n",
            "Roll No: 12\n",
            "Mark: 56.0\n"
          ]
        }
      ],
      "source": [
        "name = input(\"Enter Name: \")\n",
        "roll_no = int(input(\"Enter Roll No: \"))\n",
        "mark = float(input(\"Enter Mark: \"))\n",
        "print(f\"Name: {name}\")\n",
        "print(f\"Roll No: {roll_no}\")\n",
        "print(f\"Mark: {mark}\")\n"
      ]
    },
    {
      "cell_type": "markdown",
      "source": [
        "  3)Write a Python program to get the largest number from a list."
      ],
      "metadata": {
        "id": "Li63TsvRgdxb"
      }
    },
    {
      "cell_type": "code",
      "source": [
        "list = [45, 8, 91, 25]\n",
        "print(max(list),\"is the largest number\")"
      ],
      "metadata": {
        "colab": {
          "base_uri": "https://localhost:8080/"
        },
        "id": "kiArdkGJgX7U",
        "outputId": "afd61e91-7042-4973-8b4f-4cac0d92bdc0"
      },
      "execution_count": null,
      "outputs": [
        {
          "output_type": "stream",
          "name": "stdout",
          "text": [
            "91 is the largest number\n"
          ]
        }
      ]
    },
    {
      "cell_type": "markdown",
      "source": [
        "4)Given a range of first 10 numbers, write a Python program to iterate from start number to the end number and print the sum of the current number and previous number"
      ],
      "metadata": {
        "id": "RMBOa_8qU6W1"
      }
    },
    {
      "cell_type": "code",
      "source": [
        "\n",
        "for i in range(1, 11):\n",
        "    if i == 1:\n",
        "        print(\"Current Number\", i, \"Previous Number\", 0, \"Sum:\", i)\n",
        "    else:\n",
        "        print(\"Current Number\", i, \"Previous Number\", i - 1, \"Sum:\", i + i - 1)\n"
      ],
      "metadata": {
        "colab": {
          "base_uri": "https://localhost:8080/"
        },
        "id": "IVO-QYqFT1vp",
        "outputId": "58a4602f-fbb1-4dbf-89d9-726fc38a7635"
      },
      "execution_count": null,
      "outputs": [
        {
          "output_type": "stream",
          "name": "stdout",
          "text": [
            "Current Number 1 Previous Number 0 Sum: 1\n",
            "Current Number 2 Previous Number 1 Sum: 3\n",
            "Current Number 3 Previous Number 2 Sum: 5\n",
            "Current Number 4 Previous Number 3 Sum: 7\n",
            "Current Number 5 Previous Number 4 Sum: 9\n",
            "Current Number 6 Previous Number 5 Sum: 11\n",
            "Current Number 7 Previous Number 6 Sum: 13\n",
            "Current Number 8 Previous Number 7 Sum: 15\n",
            "Current Number 9 Previous Number 8 Sum: 17\n",
            "Current Number 10 Previous Number 9 Sum: 19\n"
          ]
        }
      ]
    },
    {
      "cell_type": "markdown",
      "source": [
        "5) Write a Python program to print only those numbers which are divisible of 5."
      ],
      "metadata": {
        "id": "LQYJx1Eml6it"
      }
    },
    {
      "cell_type": "code",
      "source": [
        "\n",
        "for num in range(1,25):\n",
        "  if num%5==0:\n",
        "\n",
        "\n",
        "    print('number divisible by', num)"
      ],
      "metadata": {
        "colab": {
          "base_uri": "https://localhost:8080/"
        },
        "id": "1tT4jl1LF1yC",
        "outputId": "3f3fd7f2-7d08-44e7-f886-e9d11d29d8cb"
      },
      "execution_count": null,
      "outputs": [
        {
          "output_type": "stream",
          "name": "stdout",
          "text": [
            "number divisible by 5\n",
            "number divisible by 10\n",
            "number divisible by 15\n",
            "number divisible by 20\n"
          ]
        }
      ]
    },
    {
      "cell_type": "markdown",
      "source": [
        "6)Write a Python program to check whether a number is prime or not."
      ],
      "metadata": {
        "id": "mJS_D-25UxaR"
      }
    },
    {
      "cell_type": "code",
      "source": [
        "num = int(input('enter a positive number '))\n",
        "\n",
        "for test in range(2,num//2):\n",
        " if num%test==0:\n",
        "\n",
        "   print ('not prime')\n",
        "\n",
        "\n",
        "else:\n",
        "\n",
        "\n",
        "      print('prime')"
      ],
      "metadata": {
        "colab": {
          "base_uri": "https://localhost:8080/"
        },
        "id": "pDbLNQCZU8j0",
        "outputId": "1331e31e-8946-4fc7-a4b1-7f22389bb00b"
      },
      "execution_count": null,
      "outputs": [
        {
          "output_type": "stream",
          "name": "stdout",
          "text": [
            "enter a positive number 5\n",
            "prime\n"
          ]
        }
      ]
    },
    {
      "cell_type": "markdown",
      "source": [
        "7)Write a Python program to reverse a list using for loop."
      ],
      "metadata": {
        "id": "_H_xJjd04z84"
      }
    },
    {
      "cell_type": "code",
      "source": [
        "for num in range(70,60,-1):\n",
        "  print(num)"
      ],
      "metadata": {
        "colab": {
          "base_uri": "https://localhost:8080/"
        },
        "id": "7tRnHC3pmUpW",
        "outputId": "d50f8458-4247-4894-8a6f-f0603f707b3c"
      },
      "execution_count": null,
      "outputs": [
        {
          "output_type": "stream",
          "name": "stdout",
          "text": [
            "70\n",
            "69\n",
            "68\n",
            "67\n",
            "66\n",
            "65\n",
            "64\n",
            "63\n",
            "62\n",
            "61\n"
          ]
        }
      ]
    },
    {
      "cell_type": "markdown",
      "source": [
        "8)Write a Python program to print the following pattern."
      ],
      "metadata": {
        "id": "X6Gp4Th6JYHl"
      }
    },
    {
      "cell_type": "code",
      "source": [
        "for i in range(1,6):\n",
        "  for j in range(1,i+1):\n",
        "    print(\"*\",end=\" \")\n",
        "  print()"
      ],
      "metadata": {
        "colab": {
          "base_uri": "https://localhost:8080/"
        },
        "id": "tZlNN0KOJbn0",
        "outputId": "5bed81b3-60bf-42dd-c13c-8ccc18032b8d"
      },
      "execution_count": null,
      "outputs": [
        {
          "output_type": "stream",
          "name": "stdout",
          "text": [
            "* \n",
            "* * \n",
            "* * * \n",
            "* * * * \n",
            "* * * * * \n"
          ]
        }
      ]
    },
    {
      "cell_type": "markdown",
      "source": [
        "9. Write a Python program to find the maximum of three numbers"
      ],
      "metadata": {
        "id": "TY2r6KI4LwZu"
      }
    },
    {
      "cell_type": "code",
      "source": [
        "num1,num2,num3=69,55,41\n",
        "if num1>num2 and num1>num3:\n",
        "    print(num1)\n",
        "elif num2>num1 and num2>num3:\n",
        "    print(num2)\n",
        "else:\n",
        "    print(num3)"
      ],
      "metadata": {
        "id": "aUaQSvEKLq58"
      },
      "execution_count": null,
      "outputs": []
    },
    {
      "cell_type": "markdown",
      "source": [
        " 10)Write a Python program to construct the following pattern, using a nested for loop."
      ],
      "metadata": {
        "id": "UbYAXCCNXIoI"
      }
    },
    {
      "cell_type": "code",
      "source": [
        "for i in range(1,6):\n",
        "  for j in range(1,i+1):\n",
        "    print(\"*\",end=\" \")\n",
        "  print()\n",
        "  continue\n",
        "for j in range(1,i-0):\n",
        " print(\"*\",end=\" \")\n",
        "print()\n",
        "\n",
        "for j in range(1,i-1):\n",
        " print(\"*\",end=\" \")\n",
        "print()"
      ],
      "metadata": {
        "colab": {
          "base_uri": "https://localhost:8080/"
        },
        "id": "6ITrZ-5cXOkp",
        "outputId": "b9eb6e61-4899-4c03-b0e8-9f4e417b1b94"
      },
      "execution_count": null,
      "outputs": [
        {
          "output_type": "stream",
          "name": "stdout",
          "text": [
            "* \n",
            "* * \n",
            "* * * \n",
            "* * * * \n",
            "* * * * * \n",
            "* * * * \n",
            "* * * \n"
          ]
        }
      ]
    }
  ]
}