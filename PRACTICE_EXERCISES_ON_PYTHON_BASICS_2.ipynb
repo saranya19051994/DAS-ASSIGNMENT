{
  "nbformat": 4,
  "nbformat_minor": 0,
  "metadata": {
    "colab": {
      "provenance": []
    },
    "kernelspec": {
      "name": "python3",
      "display_name": "Python 3"
    },
    "language_info": {
      "name": "python"
    }
  },
  "cells": [
    {
      "cell_type": "markdown",
      "source": [
        " 1) Write a Python program to accept a string value from the user and display the count of each character in that string."
      ],
      "metadata": {
        "id": "Piv28TyQelgk"
      }
    },
    {
      "cell_type": "code",
      "source": [
        "str=input(\"Enter a string:\")\n",
        "d ={}\n",
        "for i in str:\n",
        "  if i in d:\n",
        "    d[i]+=1\n",
        "  else:\n",
        "    d[i]=1\n",
        "print (d)"
      ],
      "metadata": {
        "colab": {
          "base_uri": "https://localhost:8080/"
        },
        "id": "tJ-Gojt_Gqq7",
        "outputId": "e929cfcd-cef4-4604-f5d4-21140b306785"
      },
      "execution_count": 3,
      "outputs": [
        {
          "output_type": "stream",
          "name": "stdout",
          "text": [
            "Enter a string:program\n",
            "{'p': 1, 'r': 2, 'o': 1, 'g': 1, 'a': 1, 'm': 1}\n"
          ]
        }
      ]
    },
    {
      "cell_type": "markdown",
      "source": [
        "2. . Write a Python function to find the maximum of three numbers Sample input: 34,12,7 Sample output: 34"
      ],
      "metadata": {
        "id": "sJFcOnFXiUlx"
      }
    },
    {
      "cell_type": "code",
      "source": [
        "num1 =int(input(\"Enter number: \"))\n",
        "num2 =int(input(\"Enter number: \"))\n",
        "num3 = int(input(\"Enter number: \"))\n",
        "if num1>num2 and num1>num3:\n",
        "    print(num1)\n",
        "elif num2>num1 and num2>num3:\n",
        "    print(num2)\n",
        "else:\n",
        "    print(num3)"
      ],
      "metadata": {
        "colab": {
          "base_uri": "https://localhost:8080/"
        },
        "id": "5NmslOiJiXDj",
        "outputId": "bc95af0a-e9fd-4ccb-fa1b-a77439c078db"
      },
      "execution_count": null,
      "outputs": [
        {
          "output_type": "stream",
          "name": "stdout",
          "text": [
            "Enter number: 52\n",
            "Enter number: 56\n",
            "Enter number: 96\n",
            "96\n"
          ]
        }
      ]
    },
    {
      "cell_type": "markdown",
      "source": [
        "4. Write a Python function that takes a positive integer and returns the sum of the cube of all the positive integers smaller than the specified number."
      ],
      "metadata": {
        "id": "XUUI8RsNi3mm"
      }
    },
    {
      "cell_type": "code",
      "source": [
        "sum=0\n",
        "num = int(input('enter the number'))\n",
        "for test in range(num):\n",
        "    sum += test**3\n",
        "    print(sum)"
      ],
      "metadata": {
        "colab": {
          "base_uri": "https://localhost:8080/"
        },
        "id": "yT6VUnX8VbGF",
        "outputId": "d0b6d1da-c227-4f4a-f90d-4cf8a6f1cd9a"
      },
      "execution_count": 13,
      "outputs": [
        {
          "output_type": "stream",
          "name": "stdout",
          "text": [
            "enter the number9\n",
            "0\n",
            "1\n",
            "9\n",
            "36\n",
            "100\n",
            "225\n",
            "441\n",
            "784\n",
            "1296\n"
          ]
        }
      ]
    },
    {
      "cell_type": "markdown",
      "source": [
        "5. Write a Python program which iterates from 1 to 10. For multiples of 2, print “Fizz” instead of the number and for the multiples of 5, print “Buzz”. For numbers which are multiples of both 2 and 5, print “FizzBuzz”. Sample input: numbers from 1 to 10 Sample output: 1 Fizz 3 Fizz Buzz Fizz 7 Fizz 9 FizzBuzz"
      ],
      "metadata": {
        "id": "OrtXV8Ln1YKQ"
      }
    },
    {
      "cell_type": "code",
      "source": [
        "for i in range(1, 11):\n",
        "  if i % 2 == 0 and i % 5 == 0:\n",
        "    print(\"FizzBuzz\")\n",
        "  elif i % 2 == 0:\n",
        "    print(\"Fizz\")\n",
        "  elif i % 5 == 0:\n",
        "    print(\"Buzz\")\n",
        "  else:\n",
        "    print(i)"
      ],
      "metadata": {
        "colab": {
          "base_uri": "https://localhost:8080/"
        },
        "id": "0KsEkTeu1qf5",
        "outputId": "838f692e-5fae-4b16-ff39-6be494443add"
      },
      "execution_count": 1,
      "outputs": [
        {
          "output_type": "stream",
          "name": "stdout",
          "text": [
            "1\n",
            "Fizz\n",
            "3\n",
            "Fizz\n",
            "Buzz\n",
            "Fizz\n",
            "7\n",
            "Fizz\n",
            "9\n",
            "FizzBuzz\n"
          ]
        }
      ]
    },
    {
      "cell_type": "markdown",
      "source": [
        "6. Write a Python program to find the most frequent item in a list of numbers. Sample input: 2, 3, 4, 2, 5, 2 Sample output: 2"
      ],
      "metadata": {
        "id": "_HQev6194d04"
      }
    },
    {
      "cell_type": "markdown",
      "source": [
        "7)Write a Python program to find the sum of squares of the numbers in a list."
      ],
      "metadata": {
        "id": "JVEH85Somdis"
      }
    },
    {
      "cell_type": "code",
      "source": [
        "sum =0\n",
        "lim = int(input('enter the limt'))\n",
        "for num in range(1,lim + 1):\n",
        "  sum=sum+num\n",
        "  print('sum is',sum)\n",
        "  print('squares is',sum**2)"
      ],
      "metadata": {
        "colab": {
          "base_uri": "https://localhost:8080/"
        },
        "id": "fApR1kRSi29Y",
        "outputId": "fefaee4a-f32b-499f-a6bf-5913ed2a0392"
      },
      "execution_count": null,
      "outputs": [
        {
          "output_type": "stream",
          "name": "stdout",
          "text": [
            "enter the limt5\n",
            "sum is 1\n",
            "squares is 1\n",
            "sum is 3\n",
            "squares is 9\n",
            "sum is 6\n",
            "squares is 36\n",
            "sum is 10\n",
            "squares is 100\n",
            "sum is 15\n",
            "squares is 225\n"
          ]
        }
      ]
    },
    {
      "cell_type": "markdown",
      "source": [
        "8. Write a Python program using for loop that will iterate from 1 to 15. For each iteration, check if the current number is odd or even, and display the message to the screen as odd or even."
      ],
      "metadata": {
        "id": "zarUPT55W2mV"
      }
    },
    {
      "cell_type": "code",
      "source": [
        "\n",
        "for i in range(1,15):\n",
        "  if i%2 == 0:\n",
        "    print(i, \"is even\")\n",
        "  else:\n",
        "    print(i, \"is odd\")"
      ],
      "metadata": {
        "colab": {
          "base_uri": "https://localhost:8080/"
        },
        "id": "dooxaoGLW-B-",
        "outputId": "c71a5478-fec9-4c5d-cc01-e57fcb76a1b4"
      },
      "execution_count": 16,
      "outputs": [
        {
          "output_type": "stream",
          "name": "stdout",
          "text": [
            "1 is odd\n",
            "2 is even\n",
            "3 is odd\n",
            "4 is even\n",
            "5 is odd\n",
            "6 is even\n",
            "7 is odd\n",
            "8 is even\n",
            "9 is odd\n",
            "10 is even\n",
            "11 is odd\n",
            "12 is even\n",
            "13 is odd\n",
            "14 is even\n"
          ]
        }
      ]
    },
    {
      "cell_type": "markdown",
      "source": [
        "9)Write a Python program to convert temperatures to and from Celsius Fahrenheit. [Formula: c/5=f-32/9 where c=temperature in Celsius and f= temperature in Fahrenheit.] Sample input: Temperature in Fahrenheit =41 Sample output: Temperature in Celsius =5"
      ],
      "metadata": {
        "id": "hd4wEoFKYNQM"
      }
    },
    {
      "cell_type": "code",
      "source": [
        "celsius = float(input(\"Enter temperature in Celsius: \"))\n",
        "fahrenheit = (celsius * 9/5) + 32\n",
        "print(\"Temperature in Fahrenheit:\", fahrenheit)\n",
        "fahrenheit = float(input(\"Enter temperature in Fahrenheit: \"))\n",
        "celsius = (fahrenheit - 32) * 5/9\n",
        "print(\"Temperature in Celsius:\", celsius)"
      ],
      "metadata": {
        "id": "cIp6zdRDki-A"
      },
      "execution_count": null,
      "outputs": []
    },
    {
      "cell_type": "markdown",
      "source": [
        "10. Write a Python function to calculate the factorial of a number (a nonnegative integer). The function accepts the number as an argument."
      ],
      "metadata": {
        "id": "oct6d4XosKf0"
      }
    },
    {
      "cell_type": "code",
      "source": [],
      "metadata": {
        "id": "xoDid9WdsUuD"
      },
      "execution_count": null,
      "outputs": []
    }
  ]
}